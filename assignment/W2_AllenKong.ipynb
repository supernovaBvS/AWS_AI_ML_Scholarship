{
 "cells": [
  {
   "cell_type": "markdown",
   "metadata": {},
   "source": [
    "•i want a function which takes in 2 inputs and if both are numeric then add, subtract, multiply, percent,\n",
    "\n",
    "if both are non-numeric then just concat and tell that rest of the operations are not applicable,\n",
    "\n",
    "if only one numeric then convert the numeric to text and concat and multiply,\n",
    "\n",
    "Sample Input 1: 2,3\n",
    "\n",
    "print(2+3)\n",
    "\n",
    "print(2-3)\n",
    "\n",
    "print (3+3)\n",
    "\n",
    "print(2/3)\n",
    "\n",
    "Sample Ouput 1: 5, -1, 6, 66%\n",
    "\n",
    "Sample Input 2 : Hi, Raju\n",
    "\n",
    "Sample Ouput 2 : \"Hi Raju\" \"Other operations are not applicable \"\n",
    "\n",
    "Sample Input 3: 2, Raju \n",
    "\n",
    "Sample Output 3 : \"2Raju\", \"RajuRaju\" Save the output file: \"W2 _Raju.doc/py/ipby\""
   ]
  },
  {
   "cell_type": "code",
   "execution_count": 2,
   "metadata": {},
   "outputs": [],
   "source": [
    "def hey(x,y):\n",
    "    if type(x) and type(y) == int:\n",
    "        return((x+y), (x-y), (x*y), ((x/y)*100))\n",
    "    if type(x) == int or type(y) == int:\n",
    "        return (str(x)+str(y), x*y )\n",
    "    if type(x) and type(y) == str:\n",
    "        return (x + ' ' + y, \"Other operations are not applicable.\")\n"
   ]
  },
  {
   "cell_type": "code",
   "execution_count": 3,
   "metadata": {},
   "outputs": [
    {
     "ename": "TypeError",
     "evalue": "can only concatenate str (not \"int\") to str",
     "output_type": "error",
     "traceback": [
      "\u001b[0;31m---------------------------------------------------------------------------\u001b[0m",
      "\u001b[0;31mTypeError\u001b[0m                                 Traceback (most recent call last)",
      "\u001b[1;32m/Users/dev/Documents/AWS-AI-ML-scholarship/assignment/W2_AllenKong.ipynb Cell 3\u001b[0m line \u001b[0;36m1\n\u001b[0;32m----> <a href='vscode-notebook-cell:/Users/dev/Documents/AWS-AI-ML-scholarship/assignment/W2_AllenKong.ipynb#W5sZmlsZQ%3D%3D?line=0'>1</a>\u001b[0m hey(\u001b[39m\"\u001b[39;49m\u001b[39mRaju\u001b[39;49m\u001b[39m\"\u001b[39;49m, \u001b[39m3\u001b[39;49m)\n",
      "\u001b[1;32m/Users/dev/Documents/AWS-AI-ML-scholarship/assignment/W2_AllenKong.ipynb Cell 3\u001b[0m line \u001b[0;36m3\n\u001b[1;32m      <a href='vscode-notebook-cell:/Users/dev/Documents/AWS-AI-ML-scholarship/assignment/W2_AllenKong.ipynb#W5sZmlsZQ%3D%3D?line=0'>1</a>\u001b[0m \u001b[39mdef\u001b[39;00m \u001b[39mhey\u001b[39m(x,y):\n\u001b[1;32m      <a href='vscode-notebook-cell:/Users/dev/Documents/AWS-AI-ML-scholarship/assignment/W2_AllenKong.ipynb#W5sZmlsZQ%3D%3D?line=1'>2</a>\u001b[0m     \u001b[39mif\u001b[39;00m \u001b[39mtype\u001b[39m(x) \u001b[39mand\u001b[39;00m \u001b[39mtype\u001b[39m(y) \u001b[39m==\u001b[39m \u001b[39mint\u001b[39m:\n\u001b[0;32m----> <a href='vscode-notebook-cell:/Users/dev/Documents/AWS-AI-ML-scholarship/assignment/W2_AllenKong.ipynb#W5sZmlsZQ%3D%3D?line=2'>3</a>\u001b[0m         \u001b[39mreturn\u001b[39;00m((x\u001b[39m+\u001b[39;49my), (x\u001b[39m-\u001b[39my), (x\u001b[39m*\u001b[39my), ((x\u001b[39m/\u001b[39my)\u001b[39m*\u001b[39m\u001b[39m100\u001b[39m))\n\u001b[1;32m      <a href='vscode-notebook-cell:/Users/dev/Documents/AWS-AI-ML-scholarship/assignment/W2_AllenKong.ipynb#W5sZmlsZQ%3D%3D?line=3'>4</a>\u001b[0m     \u001b[39mif\u001b[39;00m \u001b[39mtype\u001b[39m(x) \u001b[39m==\u001b[39m \u001b[39mint\u001b[39m \u001b[39mor\u001b[39;00m \u001b[39mtype\u001b[39m(y) \u001b[39m==\u001b[39m \u001b[39mint\u001b[39m:\n\u001b[1;32m      <a href='vscode-notebook-cell:/Users/dev/Documents/AWS-AI-ML-scholarship/assignment/W2_AllenKong.ipynb#W5sZmlsZQ%3D%3D?line=4'>5</a>\u001b[0m         \u001b[39mreturn\u001b[39;00m (\u001b[39mstr\u001b[39m(x)\u001b[39m+\u001b[39m\u001b[39mstr\u001b[39m(y), x\u001b[39m*\u001b[39my )\n",
      "\u001b[0;31mTypeError\u001b[0m: can only concatenate str (not \"int\") to str"
     ]
    }
   ],
   "source": [
    "hey(\"Raju\", 3)"
   ]
  },
  {
   "cell_type": "code",
   "execution_count": null,
   "metadata": {},
   "outputs": [],
   "source": []
  }
 ],
 "metadata": {
  "kernelspec": {
   "display_name": "uniondobot",
   "language": "python",
   "name": "python3"
  },
  "language_info": {
   "codemirror_mode": {
    "name": "ipython",
    "version": 3
   },
   "file_extension": ".py",
   "mimetype": "text/x-python",
   "name": "python",
   "nbconvert_exporter": "python",
   "pygments_lexer": "ipython3",
   "version": "3.11.0"
  }
 },
 "nbformat": 4,
 "nbformat_minor": 2
}
